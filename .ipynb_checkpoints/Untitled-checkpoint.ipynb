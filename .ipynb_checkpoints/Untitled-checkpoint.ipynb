{
 "cells": [
  {
   "cell_type": "code",
   "execution_count": 17,
   "metadata": {},
   "outputs": [],
   "source": [
    "# Dependencies\n",
    "import requests\n",
    "import json\n",
    "from pprint import pprint"
   ]
  },
  {
   "cell_type": "code",
   "execution_count": 18,
   "metadata": {},
   "outputs": [
    {
     "data": {
      "text/plain": [
       "'https://api.spacexdata.com/v2/rockets/falcon9'"
      ]
     },
     "execution_count": 18,
     "metadata": {},
     "output_type": "execute_result"
    }
   ],
   "source": [
    "# URL for GET requests to retrieve vehicle data\n",
    "url = \"https://api.spacexdata.com/v2/rockets/falcon9\"\n",
    "url"
   ]
  },
  {
   "cell_type": "code",
   "execution_count": 19,
   "metadata": {},
   "outputs": [
    {
     "name": "stdout",
     "output_type": "stream",
     "text": [
      "{'active': True,\n",
      " 'boosters': 0,\n",
      " 'company': 'SpaceX',\n",
      " 'cost_per_launch': 50000000,\n",
      " 'country': 'United States',\n",
      " 'description': 'Falcon 9 is a two-stage rocket designed and manufactured by '\n",
      "                'SpaceX for the reliable and safe transport of satellites and '\n",
      "                'the Dragon spacecraft into orbit.',\n",
      " 'diameter': {'feet': 12, 'meters': 3.7},\n",
      " 'engines': {'engine_loss_max': 2,\n",
      "             'layout': 'octaweb',\n",
      "             'number': 9,\n",
      "             'propellant_1': 'liquid oxygen',\n",
      "             'propellant_2': 'RP-1 kerosene',\n",
      "             'thrust_sea_level': {'kN': 845, 'lbf': 190000},\n",
      "             'thrust_to_weight': 180.1,\n",
      "             'thrust_vacuum': {'kN': 914, 'lbf': 205500},\n",
      "             'type': 'merlin',\n",
      "             'version': '1D+'},\n",
      " 'first_flight': '2010-06-04',\n",
      " 'first_stage': {'burn_time_sec': 162,\n",
      "                 'engines': 9,\n",
      "                 'fuel_amount_tons': 385,\n",
      "                 'reusable': True,\n",
      "                 'thrust_sea_level': {'kN': 7607, 'lbf': 1710000},\n",
      "                 'thrust_vacuum': {'kN': 8227, 'lbf': 1849500}},\n",
      " 'flickr_images': ['https://farm1.staticflickr.com/929/28787338307_3453a11a77_b.jpg',\n",
      "                   'https://farm4.staticflickr.com/3955/32915197674_eee74d81bb_b.jpg',\n",
      "                   'https://farm1.staticflickr.com/293/32312415025_6841e30bf1_b.jpg',\n",
      "                   'https://farm1.staticflickr.com/623/23660653516_5b6cb301d1_b.jpg',\n",
      "                   'https://farm6.staticflickr.com/5518/31579784413_d853331601_b.jpg',\n",
      "                   'https://farm1.staticflickr.com/745/32394687645_a9c54a34ef_b.jpg'],\n",
      " 'height': {'feet': 229.6, 'meters': 70},\n",
      " 'id': 'falcon9',\n",
      " 'landing_legs': {'material': 'carbon fiber', 'number': 4},\n",
      " 'mass': {'kg': 549054, 'lb': 1207920},\n",
      " 'name': 'Falcon 9',\n",
      " 'payload_weights': [{'id': 'leo',\n",
      "                      'kg': 22800,\n",
      "                      'lb': 50265,\n",
      "                      'name': 'Low Earth Orbit'},\n",
      "                     {'id': 'gto',\n",
      "                      'kg': 8300,\n",
      "                      'lb': 18300,\n",
      "                      'name': 'Geosynchronous Transfer Orbit'},\n",
      "                     {'id': 'mars',\n",
      "                      'kg': 4020,\n",
      "                      'lb': 8860,\n",
      "                      'name': 'Mars Orbit'}],\n",
      " 'rocketid': 2,\n",
      " 'second_stage': {'burn_time_sec': 397,\n",
      "                  'engines': 1,\n",
      "                  'fuel_amount_tons': 90,\n",
      "                  'payloads': {'composite_fairing': {'diameter': {'feet': 17.1,\n",
      "                                                                  'meters': 5.2},\n",
      "                                                     'height': {'feet': 43,\n",
      "                                                                'meters': 13.1}},\n",
      "                               'option_1': 'dragon',\n",
      "                               'option_2': 'composite fairing'},\n",
      "                  'reusable': False,\n",
      "                  'thrust': {'kN': 934, 'lbf': 210000}},\n",
      " 'stages': 2,\n",
      " 'success_rate_pct': 97,\n",
      " 'type': 'rocket',\n",
      " 'wikipedia': 'https://en.wikipedia.org/wiki/Falcon_9'}\n"
     ]
    }
   ],
   "source": [
    "# Pretty print JSON for all launchpads\n",
    "response = requests.get(url).json()\n",
    "pprint(response) # This can also be done using Dumbs method"
   ]
  },
  {
   "cell_type": "code",
   "execution_count": 37,
   "metadata": {},
   "outputs": [
    {
     "name": "stdout",
     "output_type": "stream",
     "text": [
      "The cost per launch is 50000000.\n"
     ]
    }
   ],
   "source": [
    "cost = (response[\"cost_per_launch\"])\n",
    "print(f\"The cost per launch is {cost}.\")"
   ]
  },
  {
   "cell_type": "code",
   "execution_count": 36,
   "metadata": {},
   "outputs": [
    {
     "name": "stdout",
     "output_type": "stream",
     "text": [
      "There are 3 payloads.\n"
     ]
    }
   ],
   "source": [
    "number_payloads = len(response[\"payload_weights\"])\n",
    "print(f\"There are {number_payloads} payloads.\")"
   ]
  },
  {
   "cell_type": "code",
   "execution_count": 42,
   "metadata": {},
   "outputs": [
    {
     "name": "stdout",
     "output_type": "stream",
     "text": [
      "The payload weight is equal to 22800 kilograms.\n"
     ]
    }
   ],
   "source": [
    "payload_weight = response[\"payload_weights\"][0][\"kg\"]\n",
    "print (f\"The payload weight is equal to {payload_weight} kilograms.\")"
   ]
  }
 ],
 "metadata": {
  "kernelspec": {
   "display_name": "Python 3",
   "language": "python",
   "name": "python3"
  },
  "language_info": {
   "codemirror_mode": {
    "name": "ipython",
    "version": 3
   },
   "file_extension": ".py",
   "mimetype": "text/x-python",
   "name": "python",
   "nbconvert_exporter": "python",
   "pygments_lexer": "ipython3",
   "version": "3.6.7"
  }
 },
 "nbformat": 4,
 "nbformat_minor": 2
}
